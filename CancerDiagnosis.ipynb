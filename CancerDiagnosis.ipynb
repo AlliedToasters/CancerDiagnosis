{
 "cells": [
  {
   "cell_type": "markdown",
   "metadata": {},
   "source": [
    "<H1>Diagnosing Malignant Tumors with Logistic Regression</H1>\n",
    "<H3>By Michael Klear</H3><br>\n",
    "This is an analysis of the <a href='http://archive.ics.uci.edu/ml/datasets/Breast+Cancer+Wisconsin+%28Original%29'>UCI Wisconsin Breast Cancer</a> dataset. It's a simple and short dataset that provides enough information to create a highly sensitive linear logistic regression diagnosis model.<br><br>\n",
    "Acknowledgements to the publishers of this dataset can be found in <a href='https://github.com/AlliedToasters/CancerDiagnosis.git'>this document</a>. Thanks, guys!\n"
   ]
  },
  {
   "cell_type": "code",
   "execution_count": 1,
   "metadata": {
    "collapsed": true
   },
   "outputs": [],
   "source": [
    "import pandas as pd\n",
    "import numpy as np\n",
    "from sklearn.linear_model import LogisticRegression, Ridge, Lasso\n",
    "from sklearn.model_selection import GridSearchCV, cross_val_score\n",
    "from sklearn import ensemble"
   ]
  },
  {
   "cell_type": "code",
   "execution_count": 2,
   "metadata": {
    "collapsed": true
   },
   "outputs": [],
   "source": [
    "df = pd.read_csv('breast-cancer-wisconsin.data', header=None)"
   ]
  },
  {
   "cell_type": "markdown",
   "metadata": {},
   "source": [
    "I rename the columns to indicate what they measure, as provided by the <a href='https://github.com/AlliedToasters/CancerDiagnosis.git'>dataset metada</a>."
   ]
  },
  {
   "cell_type": "code",
   "execution_count": 3,
   "metadata": {
    "collapsed": true
   },
   "outputs": [],
   "source": [
    "df.columns = [ \n",
    "    'patient_id',\n",
    "    'clump_thickness',\n",
    "    'unfrm_cell_size',\n",
    "    'unfrm_cell_shape',\n",
    "    'mrg_adhesion',\n",
    "    'sing_epi_cell_size',\n",
    "    'bare_nuclei',\n",
    "    'bland_chrom',\n",
    "    'norm_nucleoli',\n",
    "    'mitosis',\n",
    "    'malig'\n",
    "]"
   ]
  },
  {
   "cell_type": "code",
   "execution_count": 4,
   "metadata": {
    "collapsed": true
   },
   "outputs": [],
   "source": [
    "#Relable the outcome variable to 0 for benign, 1 for malignant.\n",
    "df.malig = np.where(df.malig==4, 1, 0) "
   ]
  },
  {
   "cell_type": "markdown",
   "metadata": {},
   "source": [
    "16 of the ~700 samples include null fields ('?') for the bare nuclei measurement. I could just drop them, but we have a small data set to begin with. Instead I'll try to roughly estimate them with a linear model based on the complete samples."
   ]
  },
  {
   "cell_type": "code",
   "execution_count": 5,
   "metadata": {},
   "outputs": [
    {
     "name": "stdout",
     "output_type": "stream",
     "text": [
      "best score:  0.643045532848 best parameters:  {'alpha': 7}\n"
     ]
    }
   ],
   "source": [
    "complete_data = df[df['bare_nuclei']!='?'].copy()\n",
    "incomplete_data = df[df['bare_nuclei']=='?'].copy()\n",
    "features = [\n",
    "    'clump_thickness',\n",
    "    'unfrm_cell_size',\n",
    "    'unfrm_cell_shape',\n",
    "    'mrg_adhesion',\n",
    "    'sing_epi_cell_size',\n",
    "    'bland_chrom',\n",
    "    'norm_nucleoli',\n",
    "    'mitosis',\n",
    "    'malig'\n",
    "]\n",
    "X = complete_data[features].copy()\n",
    "X_ = incomplete_data[features].copy()\n",
    "for feature in features:\n",
    "    X[feature] = X[feature]/X[feature].max() #scale for regularization\n",
    "    X_[feature] = X_[feature]/X_[feature].max() \n",
    "Y = complete_data['bare_nuclei']\n",
    "\n",
    "#Regularize to deal with colinearity of other features\n",
    "reg = Ridge()\n",
    "params = {\n",
    "    'alpha': [8, 7, 6]\n",
    "}\n",
    "srch = GridSearchCV(reg, params, cv=5)\n",
    "srch.fit(X, Y)\n",
    "print('best score: ', srch.best_score_, 'best parameters: ', srch.best_params_)\n",
    "\n",
    "#Make predictions and set these values in df\n",
    "incomplete_data['predicted_value'] = srch.predict(X_).astype(int)\n",
    "for row in incomplete_data.index:\n",
    "    df.set_value(row, 'bare_nuclei', incomplete_data.loc[row].predicted_value)\n",
    "    \n",
    "df.bare_nuclei = df.bare_nuclei.astype(int)"
   ]
  },
  {
   "cell_type": "markdown",
   "metadata": {},
   "source": [
    "<H2>Logistic Regression Model</H2><br>\n",
    "Now that we've dealt with all of our null values, we can put together a logistic regression model. Using regularization, GridSearch indicates that the model performs best with very little regularization (parameter C set to 1.)"
   ]
  },
  {
   "cell_type": "code",
   "execution_count": 6,
   "metadata": {},
   "outputs": [
    {
     "name": "stdout",
     "output_type": "stream",
     "text": [
      "Grid search results:  0.97138769671 {'C': 1, 'penalty': 'l1'}\n"
     ]
    },
    {
     "data": {
      "text/html": [
       "<div>\n",
       "<style>\n",
       "    .dataframe thead tr:only-child th {\n",
       "        text-align: right;\n",
       "    }\n",
       "\n",
       "    .dataframe thead th {\n",
       "        text-align: left;\n",
       "    }\n",
       "\n",
       "    .dataframe tbody tr th {\n",
       "        vertical-align: top;\n",
       "    }\n",
       "</style>\n",
       "<table border=\"1\" class=\"dataframe\">\n",
       "  <thead>\n",
       "    <tr style=\"text-align: right;\">\n",
       "      <th></th>\n",
       "      <th>measurement</th>\n",
       "      <th>coefficient</th>\n",
       "    </tr>\n",
       "  </thead>\n",
       "  <tbody>\n",
       "    <tr>\n",
       "      <th>0</th>\n",
       "      <td>intercept</td>\n",
       "      <td>[-6.05440107912]</td>\n",
       "    </tr>\n",
       "    <tr>\n",
       "      <th>1</th>\n",
       "      <td>clump_thickness</td>\n",
       "      <td>[0.274181866616]</td>\n",
       "    </tr>\n",
       "    <tr>\n",
       "      <th>2</th>\n",
       "      <td>unfrm_cell_size</td>\n",
       "      <td>[0.181069635919]</td>\n",
       "    </tr>\n",
       "    <tr>\n",
       "      <th>3</th>\n",
       "      <td>unfrm_cell_shape</td>\n",
       "      <td>[0.28718440646]</td>\n",
       "    </tr>\n",
       "    <tr>\n",
       "      <th>4</th>\n",
       "      <td>mrg_adhesion</td>\n",
       "      <td>[0.153864198781]</td>\n",
       "    </tr>\n",
       "    <tr>\n",
       "      <th>5</th>\n",
       "      <td>sing_epi_cell_size</td>\n",
       "      <td>[-0.0413967666258]</td>\n",
       "    </tr>\n",
       "    <tr>\n",
       "      <th>6</th>\n",
       "      <td>bare_nuclei</td>\n",
       "      <td>[0.399203132543]</td>\n",
       "    </tr>\n",
       "    <tr>\n",
       "      <th>7</th>\n",
       "      <td>bland_chrom</td>\n",
       "      <td>[0.160175031869]</td>\n",
       "    </tr>\n",
       "    <tr>\n",
       "      <th>8</th>\n",
       "      <td>norm_nucleoli</td>\n",
       "      <td>[0.162696093664]</td>\n",
       "    </tr>\n",
       "    <tr>\n",
       "      <th>9</th>\n",
       "      <td>mitosis</td>\n",
       "      <td>[0.223789469312]</td>\n",
       "    </tr>\n",
       "  </tbody>\n",
       "</table>\n",
       "</div>"
      ],
      "text/plain": [
       "          measurement         coefficient\n",
       "0           intercept    [-6.05440107912]\n",
       "1     clump_thickness    [0.274181866616]\n",
       "2     unfrm_cell_size    [0.181069635919]\n",
       "3    unfrm_cell_shape     [0.28718440646]\n",
       "4        mrg_adhesion    [0.153864198781]\n",
       "5  sing_epi_cell_size  [-0.0413967666258]\n",
       "6         bare_nuclei    [0.399203132543]\n",
       "7         bland_chrom    [0.160175031869]\n",
       "8       norm_nucleoli    [0.162696093664]\n",
       "9             mitosis    [0.223789469312]"
      ]
     },
     "execution_count": 6,
     "metadata": {},
     "output_type": "execute_result"
    }
   ],
   "source": [
    "fts = [\n",
    "    'clump_thickness',\n",
    "    'unfrm_cell_size',\n",
    "    'unfrm_cell_shape',\n",
    "    'mrg_adhesion',\n",
    "    'sing_epi_cell_size',\n",
    "    'bare_nuclei',\n",
    "    'bland_chrom',\n",
    "    'norm_nucleoli',\n",
    "    'mitosis'\n",
    "]\n",
    "X = df[fts]\n",
    "Y = df['malig']\n",
    "\n",
    "\n",
    "mod = LogisticRegression(class_weight='balanced')\n",
    "params = {\n",
    "    'penalty': ['l1', 'l2'],\n",
    "    'C': [1, .999, 1.001],\n",
    "}\n",
    "\n",
    "#Apply GridSearchCV\n",
    "srch = GridSearchCV(mod, params, cv=2)\n",
    "srch.fit(X, Y)\n",
    "print('Grid search results: ', srch.best_score_, srch.best_params_) #We see best performance C=1 and loss 'l1'.\n",
    "\n",
    "mod.fit(X, Y)\n",
    "coefficients = pd.DataFrame()\n",
    "coefficients['measurement'] = ['intercept'] + fts\n",
    "coefficients['coefficient'] = [mod.intercept_] + list(mod.coef_.reshape(-1, 1))\n",
    "coefficients"
   ]
  },
  {
   "cell_type": "markdown",
   "metadata": {},
   "source": [
    "<H3>Model Performance</H3><br>\n",
    "To evaluate our model, I train on half of the data and test on the other half."
   ]
  },
  {
   "cell_type": "code",
   "execution_count": 7,
   "metadata": {},
   "outputs": [
    {
     "name": "stdout",
     "output_type": "stream",
     "text": [
      "confusion at p=.5 threshold:\n",
      "  malig    0   1\n",
      "row_0         \n",
      "0      265   3\n",
      "1        2  80 \n",
      "\n"
     ]
    }
   ],
   "source": [
    "cutoff = int(len(df)*.5)\n",
    "\n",
    "#Set training and test sets\n",
    "X_train = df[fts][:cutoff]\n",
    "X_test = df[fts][cutoff:]\n",
    "Y_train = df['malig'][:cutoff]\n",
    "Y_test = df['malig'][cutoff:]\n",
    "\n",
    "mod = LogisticRegression(penalty='l2', C=1, class_weight='balanced')\n",
    "mod.fit(X_train, Y_train)\n",
    "\n",
    "Y_ = mod.predict(X_test)\n",
    "print('confusion at p=.5 threshold:\\n ', pd.crosstab(Y_, Y_test), '\\n')"
   ]
  },
  {
   "cell_type": "markdown",
   "metadata": {},
   "source": [
    "<H3>Adjusting Sensitivity to Avoid False Negatives</H3><br>\n",
    "We can see that the model performs with a high degree of accuracy, with only five mislabeled points. Given the high cost of a false negative (a malignant tumor being classified as benign), we may be better off diagnosing all tumors with p>.25 as malignant (increasing model sensitivity). Let's see how it performs at this higher sensitivity:"
   ]
  },
  {
   "cell_type": "code",
   "execution_count": 8,
   "metadata": {},
   "outputs": [
    {
     "name": "stdout",
     "output_type": "stream",
     "text": [
      "confusion at p=.25 threshold:\n",
      "  malig    0   1\n",
      "row_0         \n",
      "0      254   0\n",
      "1       13  83 \n",
      "\n"
     ]
    }
   ],
   "source": [
    "Y_ = np.where(mod.predict_proba(X_test)[:, 1] >= .25, 1, 0)\n",
    "print('confusion at p=.25 threshold:\\n ', pd.crosstab(Y_, Y_test), '\\n')"
   ]
  },
  {
   "cell_type": "markdown",
   "metadata": {},
   "source": [
    "We can see that this is an effective way to avoid false negatives (type II errors). This adjustment in test sensitivity results in only a slightly lower overall accuracy (6 mislabeled rows, up from 5 at p=.5 threshold.)<br><br>\n",
    "<H2>Interpreting the Model</H2><br>\n",
    "The simple linear regression model provides the benefit of interpretable characteristics. We can look at the coefficients to see how the probability of malignancy is calculated by the model."
   ]
  },
  {
   "cell_type": "code",
   "execution_count": 9,
   "metadata": {},
   "outputs": [
    {
     "data": {
      "text/html": [
       "<div>\n",
       "<style>\n",
       "    .dataframe thead tr:only-child th {\n",
       "        text-align: right;\n",
       "    }\n",
       "\n",
       "    .dataframe thead th {\n",
       "        text-align: left;\n",
       "    }\n",
       "\n",
       "    .dataframe tbody tr th {\n",
       "        vertical-align: top;\n",
       "    }\n",
       "</style>\n",
       "<table border=\"1\" class=\"dataframe\">\n",
       "  <thead>\n",
       "    <tr style=\"text-align: right;\">\n",
       "      <th></th>\n",
       "      <th>measurement</th>\n",
       "      <th>coefficient</th>\n",
       "      <th>p_delta_per_standard_deviation</th>\n",
       "    </tr>\n",
       "  </thead>\n",
       "  <tbody>\n",
       "    <tr>\n",
       "      <th>0</th>\n",
       "      <td>intercept</td>\n",
       "      <td>[-6.05440107912]</td>\n",
       "      <td>[-0.0]</td>\n",
       "    </tr>\n",
       "    <tr>\n",
       "      <th>1</th>\n",
       "      <td>clump_thickness</td>\n",
       "      <td>[0.274181866616]</td>\n",
       "      <td>[0.77202502968]</td>\n",
       "    </tr>\n",
       "    <tr>\n",
       "      <th>2</th>\n",
       "      <td>unfrm_cell_size</td>\n",
       "      <td>[0.181069635919]</td>\n",
       "      <td>[0.552526590062]</td>\n",
       "    </tr>\n",
       "    <tr>\n",
       "      <th>3</th>\n",
       "      <td>unfrm_cell_shape</td>\n",
       "      <td>[0.28718440646]</td>\n",
       "      <td>[0.853487004104]</td>\n",
       "    </tr>\n",
       "    <tr>\n",
       "      <th>4</th>\n",
       "      <td>mrg_adhesion</td>\n",
       "      <td>[0.153864198781]</td>\n",
       "      <td>[0.439340638859]</td>\n",
       "    </tr>\n",
       "    <tr>\n",
       "      <th>5</th>\n",
       "      <td>sing_epi_cell_size</td>\n",
       "      <td>[-0.0413967666258]</td>\n",
       "      <td>[-0.0916648556471]</td>\n",
       "    </tr>\n",
       "    <tr>\n",
       "      <th>6</th>\n",
       "      <td>bare_nuclei</td>\n",
       "      <td>[0.399203132543]</td>\n",
       "      <td>[1.44699971223]</td>\n",
       "    </tr>\n",
       "    <tr>\n",
       "      <th>7</th>\n",
       "      <td>bland_chrom</td>\n",
       "      <td>[0.160175031869]</td>\n",
       "      <td>[0.390565071824]</td>\n",
       "    </tr>\n",
       "    <tr>\n",
       "      <th>8</th>\n",
       "      <td>norm_nucleoli</td>\n",
       "      <td>[0.162696093664]</td>\n",
       "      <td>[0.496814305971]</td>\n",
       "    </tr>\n",
       "    <tr>\n",
       "      <th>9</th>\n",
       "      <td>mitosis</td>\n",
       "      <td>[0.223789469312]</td>\n",
       "      <td>[0.383816382582]</td>\n",
       "    </tr>\n",
       "  </tbody>\n",
       "</table>\n",
       "</div>"
      ],
      "text/plain": [
       "          measurement         coefficient p_delta_per_standard_deviation\n",
       "0           intercept    [-6.05440107912]                         [-0.0]\n",
       "1     clump_thickness    [0.274181866616]                [0.77202502968]\n",
       "2     unfrm_cell_size    [0.181069635919]               [0.552526590062]\n",
       "3    unfrm_cell_shape     [0.28718440646]               [0.853487004104]\n",
       "4        mrg_adhesion    [0.153864198781]               [0.439340638859]\n",
       "5  sing_epi_cell_size  [-0.0413967666258]             [-0.0916648556471]\n",
       "6         bare_nuclei    [0.399203132543]                [1.44699971223]\n",
       "7         bland_chrom    [0.160175031869]               [0.390565071824]\n",
       "8       norm_nucleoli    [0.162696093664]               [0.496814305971]\n",
       "9             mitosis    [0.223789469312]               [0.383816382582]"
      ]
     },
     "execution_count": 9,
     "metadata": {},
     "output_type": "execute_result"
    }
   ],
   "source": [
    "coefficients['p_delta_per_standard_deviation'] = coefficients.coefficient*pd.Series([0]+list(df[fts].std()))\n",
    "coefficients.head(10)"
   ]
  },
  {
   "cell_type": "code",
   "execution_count": 10,
   "metadata": {},
   "outputs": [
    {
     "data": {
      "text/html": [
       "<div>\n",
       "<style>\n",
       "    .dataframe thead tr:only-child th {\n",
       "        text-align: right;\n",
       "    }\n",
       "\n",
       "    .dataframe thead th {\n",
       "        text-align: left;\n",
       "    }\n",
       "\n",
       "    .dataframe tbody tr th {\n",
       "        vertical-align: top;\n",
       "    }\n",
       "</style>\n",
       "<table border=\"1\" class=\"dataframe\">\n",
       "  <thead>\n",
       "    <tr style=\"text-align: right;\">\n",
       "      <th></th>\n",
       "      <th>patient_id</th>\n",
       "      <th>clump_thickness</th>\n",
       "      <th>unfrm_cell_size</th>\n",
       "      <th>unfrm_cell_shape</th>\n",
       "      <th>mrg_adhesion</th>\n",
       "      <th>sing_epi_cell_size</th>\n",
       "      <th>bare_nuclei</th>\n",
       "      <th>bland_chrom</th>\n",
       "      <th>norm_nucleoli</th>\n",
       "      <th>mitosis</th>\n",
       "      <th>malig</th>\n",
       "    </tr>\n",
       "  </thead>\n",
       "  <tbody>\n",
       "    <tr>\n",
       "      <th>count</th>\n",
       "      <td>6.990000e+02</td>\n",
       "      <td>699.000000</td>\n",
       "      <td>699.000000</td>\n",
       "      <td>699.000000</td>\n",
       "      <td>699.000000</td>\n",
       "      <td>699.000000</td>\n",
       "      <td>699.000000</td>\n",
       "      <td>699.000000</td>\n",
       "      <td>699.000000</td>\n",
       "      <td>699.000000</td>\n",
       "      <td>699.000000</td>\n",
       "    </tr>\n",
       "    <tr>\n",
       "      <th>mean</th>\n",
       "      <td>1.071704e+06</td>\n",
       "      <td>4.417740</td>\n",
       "      <td>3.134478</td>\n",
       "      <td>3.207439</td>\n",
       "      <td>2.806867</td>\n",
       "      <td>3.216023</td>\n",
       "      <td>3.503577</td>\n",
       "      <td>3.437768</td>\n",
       "      <td>2.866953</td>\n",
       "      <td>1.589413</td>\n",
       "      <td>0.344778</td>\n",
       "    </tr>\n",
       "    <tr>\n",
       "      <th>std</th>\n",
       "      <td>6.170957e+05</td>\n",
       "      <td>2.815741</td>\n",
       "      <td>3.051459</td>\n",
       "      <td>2.971913</td>\n",
       "      <td>2.855379</td>\n",
       "      <td>2.214300</td>\n",
       "      <td>3.624720</td>\n",
       "      <td>2.438364</td>\n",
       "      <td>3.053634</td>\n",
       "      <td>1.715078</td>\n",
       "      <td>0.475636</td>\n",
       "    </tr>\n",
       "    <tr>\n",
       "      <th>min</th>\n",
       "      <td>6.163400e+04</td>\n",
       "      <td>1.000000</td>\n",
       "      <td>1.000000</td>\n",
       "      <td>1.000000</td>\n",
       "      <td>1.000000</td>\n",
       "      <td>1.000000</td>\n",
       "      <td>0.000000</td>\n",
       "      <td>1.000000</td>\n",
       "      <td>1.000000</td>\n",
       "      <td>1.000000</td>\n",
       "      <td>0.000000</td>\n",
       "    </tr>\n",
       "    <tr>\n",
       "      <th>25%</th>\n",
       "      <td>8.706885e+05</td>\n",
       "      <td>2.000000</td>\n",
       "      <td>1.000000</td>\n",
       "      <td>1.000000</td>\n",
       "      <td>1.000000</td>\n",
       "      <td>2.000000</td>\n",
       "      <td>1.000000</td>\n",
       "      <td>2.000000</td>\n",
       "      <td>1.000000</td>\n",
       "      <td>1.000000</td>\n",
       "      <td>0.000000</td>\n",
       "    </tr>\n",
       "    <tr>\n",
       "      <th>50%</th>\n",
       "      <td>1.171710e+06</td>\n",
       "      <td>4.000000</td>\n",
       "      <td>1.000000</td>\n",
       "      <td>1.000000</td>\n",
       "      <td>1.000000</td>\n",
       "      <td>2.000000</td>\n",
       "      <td>1.000000</td>\n",
       "      <td>3.000000</td>\n",
       "      <td>1.000000</td>\n",
       "      <td>1.000000</td>\n",
       "      <td>0.000000</td>\n",
       "    </tr>\n",
       "    <tr>\n",
       "      <th>75%</th>\n",
       "      <td>1.238298e+06</td>\n",
       "      <td>6.000000</td>\n",
       "      <td>5.000000</td>\n",
       "      <td>5.000000</td>\n",
       "      <td>4.000000</td>\n",
       "      <td>4.000000</td>\n",
       "      <td>6.000000</td>\n",
       "      <td>5.000000</td>\n",
       "      <td>4.000000</td>\n",
       "      <td>1.000000</td>\n",
       "      <td>1.000000</td>\n",
       "    </tr>\n",
       "    <tr>\n",
       "      <th>max</th>\n",
       "      <td>1.345435e+07</td>\n",
       "      <td>10.000000</td>\n",
       "      <td>10.000000</td>\n",
       "      <td>10.000000</td>\n",
       "      <td>10.000000</td>\n",
       "      <td>10.000000</td>\n",
       "      <td>10.000000</td>\n",
       "      <td>10.000000</td>\n",
       "      <td>10.000000</td>\n",
       "      <td>10.000000</td>\n",
       "      <td>1.000000</td>\n",
       "    </tr>\n",
       "  </tbody>\n",
       "</table>\n",
       "</div>"
      ],
      "text/plain": [
       "         patient_id  clump_thickness  unfrm_cell_size  unfrm_cell_shape  \\\n",
       "count  6.990000e+02       699.000000       699.000000        699.000000   \n",
       "mean   1.071704e+06         4.417740         3.134478          3.207439   \n",
       "std    6.170957e+05         2.815741         3.051459          2.971913   \n",
       "min    6.163400e+04         1.000000         1.000000          1.000000   \n",
       "25%    8.706885e+05         2.000000         1.000000          1.000000   \n",
       "50%    1.171710e+06         4.000000         1.000000          1.000000   \n",
       "75%    1.238298e+06         6.000000         5.000000          5.000000   \n",
       "max    1.345435e+07        10.000000        10.000000         10.000000   \n",
       "\n",
       "       mrg_adhesion  sing_epi_cell_size  bare_nuclei  bland_chrom  \\\n",
       "count    699.000000          699.000000   699.000000   699.000000   \n",
       "mean       2.806867            3.216023     3.503577     3.437768   \n",
       "std        2.855379            2.214300     3.624720     2.438364   \n",
       "min        1.000000            1.000000     0.000000     1.000000   \n",
       "25%        1.000000            2.000000     1.000000     2.000000   \n",
       "50%        1.000000            2.000000     1.000000     3.000000   \n",
       "75%        4.000000            4.000000     6.000000     5.000000   \n",
       "max       10.000000           10.000000    10.000000    10.000000   \n",
       "\n",
       "       norm_nucleoli     mitosis       malig  \n",
       "count     699.000000  699.000000  699.000000  \n",
       "mean        2.866953    1.589413    0.344778  \n",
       "std         3.053634    1.715078    0.475636  \n",
       "min         1.000000    1.000000    0.000000  \n",
       "25%         1.000000    1.000000    0.000000  \n",
       "50%         1.000000    1.000000    0.000000  \n",
       "75%         4.000000    1.000000    1.000000  \n",
       "max        10.000000   10.000000    1.000000  "
      ]
     },
     "execution_count": 10,
     "metadata": {},
     "output_type": "execute_result"
    }
   ],
   "source": [
    "#Look at summary of data to help interpret coefficients.\n",
    "df.describe()"
   ]
  },
  {
   "cell_type": "markdown",
   "metadata": {},
   "source": [
    "The probability is simply the intercept (~-6) added to each measurement times its respective coefficient. We can see that all but one measurement (row 5, single epithelial cell size) have a positive correlation with an increase in probability of malignancy.<br><br>\n",
    "All measurements contribute significantly to the probability, but a single standard deviation change in \"bare nuclei\" results in the highest change in probability (see 'p_delta_per_standard_deviation' column above), making this the most determinant of all of our measurements in finding the probability.<br><br>\n",
    "<H2>Conclusion</H2><br>\n",
    "This model is not perfect. However, it performs sufficiently well to provide sensitive diagnoses and gives us some information about what factors are most important in determing malignancy. This is a great example of the usefulness of a simple logistic regression model."
   ]
  }
 ],
 "metadata": {
  "kernelspec": {
   "display_name": "Environment (conda_dspy3)",
   "language": "python",
   "name": "conda_dspy3"
  },
  "language_info": {
   "codemirror_mode": {
    "name": "ipython",
    "version": 3
   },
   "file_extension": ".py",
   "mimetype": "text/x-python",
   "name": "python",
   "nbconvert_exporter": "python",
   "pygments_lexer": "ipython3",
   "version": "3.6.2"
  }
 },
 "nbformat": 4,
 "nbformat_minor": 2
}
